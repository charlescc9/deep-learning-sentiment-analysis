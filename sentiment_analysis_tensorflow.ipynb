{
 "cells": [
  {
   "cell_type": "markdown",
   "metadata": {},
   "source": [
    "# IMDB Movie Review Sentiment Analysis with TensorFlow\n",
    "\n",
    "Binary sentiment classification on IMDB movie reviews with a CNN model in TensorFlow\n",
    "* [2014 paper by Kim](https://arxiv.org/pdf/1408.5882v2.pdf)\n",
    "* [WILDML blog post](http://www.wildml.com/2015/12/implementing-a-cnn-for-text-classification-in-tensorflow/)\n",
    "* [TensorFlow documentation](https://www.tensorflow.org/api_docs/python/)\n",
    "* [Large Movie Review Dataset](http://ai.stanford.edu/~amaas/data/sentiment/)"
   ]
  },
  {
   "cell_type": "code",
   "execution_count": 1,
   "metadata": {
    "collapsed": true
   },
   "outputs": [],
   "source": [
    "# Import packages\n",
    "import os\n",
    "import re\n",
    "import numpy as np\n",
    "import tensorflow as tf\n",
    "import matplotlib.pyplot as plt\n",
    "from random import shuffle\n",
    "from bs4 import BeautifulSoup\n",
    "from nltk.corpus import stopwords\n",
    "from tflearn.data_utils import VocabularyProcessor\n",
    "\n",
    "# Define dataset directories\n",
    "train_pos_dir = 'aclImdb/train/pos/'\n",
    "train_neg_dir = 'aclImdb/train/neg/'\n",
    "test_pos_dir = 'aclImdb/test/pos/'\n",
    "test_neg_dir = 'aclImdb/test/neg/'\n",
    "\n",
    "# Define dataset size\n",
    "data_set_size = 12500"
   ]
  },
  {
   "cell_type": "code",
   "execution_count": 2,
   "metadata": {
    "collapsed": false
   },
   "outputs": [
    {
     "name": "stdout",
     "output_type": "stream",
     "text": [
      "25000 train reviews:\n",
      "anime underrated still hardly dorky kids movie noted still come back years first saw one better movi\n",
      "\n",
      "25000 test reviews:\n",
      "sure version film saw entertaining know twins gillian chung charlene choi seeing movie think english\n",
      "\n",
      "50000 total reviews:\n",
      "anime underrated still hardly dorky kids movie noted still come back years first saw one better movi\n"
     ]
    }
   ],
   "source": [
    "# Read data\n",
    "train_pos = []\n",
    "for file_name in os.listdir(train_pos_dir):\n",
    "    with open(train_pos_dir + file_name, 'r') as myfile:\n",
    "        train_pos.append(myfile.read())\n",
    "        \n",
    "train_neg = []\n",
    "for file_name in os.listdir(train_neg_dir):\n",
    "    with open(train_neg_dir + file_name, 'r') as myfile:\n",
    "        train_neg.append(myfile.read())\n",
    "\n",
    "test_pos = []\n",
    "for file_name in os.listdir(test_pos_dir):\n",
    "    with open(test_pos_dir + file_name, 'r') as myfile:\n",
    "        test_pos.append(myfile.read())\n",
    "        \n",
    "test_neg = []\n",
    "for file_name in os.listdir(test_neg_dir):\n",
    "    with open(test_neg_dir + file_name, 'r') as myfile:\n",
    "        test_neg.append(myfile.read())                 \n",
    "        \n",
    "# Cleanse data    \n",
    "stop_words = set(stopwords.words(\"english\"))\n",
    "\n",
    "def parse_html(data):\n",
    "    data = BeautifulSoup(data, 'lxml').get_text() # Remove markup\n",
    "    data = re.sub(\"[^a-zA-Z]\",\" \", data) # Remove all non-alphanumeric characters\n",
    "    data = ' '.join([x for x in data.lower().split() if not x in stop_words]) # Remove stopwords\n",
    "    return data    \n",
    "    \n",
    "for i in xrange(data_set_size):\n",
    "    train_pos[i] = parse_html(train_pos[i])\n",
    "    train_neg[i] = parse_html(train_neg[i])\n",
    "    test_pos[i] = parse_html(test_pos[i])\n",
    "    test_neg[i] = parse_html(test_neg[i])    \n",
    "    \n",
    "train_x = np.concatenate([train_pos, train_neg])\n",
    "train_y = np.concatenate([[[0, 1] for _ in xrange(data_set_size)], [[1, 0] for _ in xrange(data_set_size)]])\n",
    "test_x = np.concatenate([test_pos, test_neg])\n",
    "test_y = np.concatenate([[[0, 1] for _ in xrange(data_set_size)], [[1, 0] for _ in xrange(data_set_size)]])\n",
    "total_x = np.concatenate([train_pos, train_neg, test_pos, test_neg])\n",
    "    \n",
    "print '%i train reviews:' % len(train_x)\n",
    "print train_x[0][:100]\n",
    "print '\\n%i test reviews:' % len(test_x)\n",
    "print test_x[0][:100]\n",
    "print '\\n%i total reviews:' % len(total_x)\n",
    "print total_x[0][:100]"
   ]
  },
  {
   "cell_type": "code",
   "execution_count": 3,
   "metadata": {
    "collapsed": false
   },
   "outputs": [
    {
     "data": {
      "image/png": "[encoded data removed]",
      "text/plain": [
       "<matplotlib.figure.Figure at 0x7f6ce193b690>"
      ]
     },
     "metadata": {},
     "output_type": "display_data"
    }
   ],
   "source": [
    "# Graph distribution of review lengths\n",
    "%matplotlib inline\n",
    "review_lengths = sorted([len(x.split()) for x in train_x] + [len(x.split()) for x in test_x])[:49900]\n",
    "plt.show(plt.bar(range(len(review_lengths)), review_lengths))"
   ]
  },
  {
   "cell_type": "code",
   "execution_count": 5,
   "metadata": {
    "collapsed": false
   },
   "outputs": [],
   "source": [
    "# Convert reviews into padded word indexes\n",
    "num_words = 250 # Based on graph (want to capture most reviews without too much padding)\n",
    "vocab_processor = VocabularyProcessor(num_words).fit_transform(total_x)\n",
    "total_x_vector = np.array(list(vocab_processor))\n",
    "train_x_vector = total_x_vector[:25000]\n",
    "test_x_vector = total_x_vector[25000:]\n",
    "\n",
    "# Shuffle data\n",
    "shuffled_i = np.random.permutation(np.arange(data_set_size * 2))\n",
    "train_x_vector_shuffled = train_x_vector[shuffled_i]\n",
    "train_y_shuffled = train_y[shuffled_i]\n",
    "test_x_vector_shuffled = test_x_vector[shuffled_i]\n",
    "test_y_shuffled = test_y[shuffled_i]"
   ]
  },
  {
   "cell_type": "code",
   "execution_count": 32,
   "metadata": {
    "collapsed": false
   },
   "outputs": [
    {
     "name": "stdout",
     "output_type": "stream",
     "text": [
      "Train epoch 0: loss = 165.88, train accuracy = 45.31%\n",
      "Train epoch 1: loss = 27.66, train accuracy = 65.62%\n",
      "Train epoch 2: loss = 7.41, train accuracy = 75.00%\n",
      "Train epoch 3: loss = 6.32, train accuracy = 73.44%\n",
      "Train epoch 4: loss = 4.36, train accuracy = 73.44%\n",
      "Train epoch 5: loss = 3.18, train accuracy = 84.38%\n",
      "Train epoch 6: loss = 3.01, train accuracy = 87.50%\n",
      "Train epoch 7: loss = 2.98, train accuracy = 89.06%\n",
      "Train epoch 8: loss = 2.71, train accuracy = 89.06%\n",
      "Train epoch 9: loss = 2.32, train accuracy = 90.62%\n",
      "Test set accuracy: 69.92%\n"
     ]
    }
   ],
   "source": [
    "# Variables\n",
    "epochs = 10\n",
    "batch_size = 64\n",
    "num_steps = int(data_set_size * 2 / batch_size * epochs)\n",
    "reg_constant = 0.01\n",
    "num_classes = 2\n",
    "vocab_size = max([max(x) for x in total_x_vector]) + 1 # 101244\n",
    "embedding_size = 128 \n",
    "patch_size_1 = 3\n",
    "patch_size_2 = 4\n",
    "patch_size_3 = 5\n",
    "num_channels = 1\n",
    "conv_depth = 128\n",
    "conv_stride = [1, 1, 1, 1]\n",
    "pool_stride = [1, 1, 1, 1]\n",
    "padding = 'VALID'\n",
    "losses = []\n",
    "\n",
    "# Graph\n",
    "with tf.Graph().as_default():\n",
    "    with tf.Session() as session:\n",
    "        # Input data\n",
    "        data_x_tf = tf.placeholder(tf.int32, [batch_size, num_words])\n",
    "        data_y_tf = tf.placeholder(tf.float32, [batch_size, num_classes])\n",
    "        dropout_tf = tf.placeholder(tf.float32)\n",
    "\n",
    "        # Embeddeding\n",
    "        embedding_space = tf.Variable(tf.random_uniform([vocab_size, embedding_size])) \n",
    "        data_x_embedded = tf.nn.embedding_lookup(embedding_space, data_x_tf) \n",
    "        data_x_embedded_expanded = tf.expand_dims(data_x_embedded, -1) \n",
    "\n",
    "        # Fist convolution\n",
    "        conv_1_weights = tf.Variable(tf.truncated_normal([patch_size_1, embedding_size, num_channels, conv_depth]))\n",
    "        conv_1_biases = tf.Variable(tf.constant(0.1, shape=(conv_depth,)))\n",
    "        conv_1 = tf.nn.conv2d(data_x_embedded_expanded, conv_1_weights, conv_stride, padding)\n",
    "        conv_1_relu = tf.nn.relu(tf.nn.bias_add(conv_1, conv_1_biases))\n",
    "        pool_1 = tf.nn.max_pool(conv_1_relu, [1, num_words - patch_size_1 + 1, 1, 1], pool_stride, padding)\n",
    "\n",
    "        # Second convolution\n",
    "        conv_2_weights = tf.Variable(tf.truncated_normal([patch_size_2, embedding_size, num_channels, conv_depth]))\n",
    "        conv_2_biases = tf.Variable(tf.constant(0.1, shape=(conv_depth,)))\n",
    "        conv_2 = tf.nn.conv2d(data_x_embedded_expanded, conv_2_weights, conv_stride, padding)\n",
    "        conv_2_relu = tf.nn.relu(tf.nn.bias_add(conv_2, conv_2_biases))\n",
    "        pool_2 = tf.nn.max_pool(conv_2_relu, [1, num_words - patch_size_2 + 1, 1, 1], pool_stride, padding)\n",
    "\n",
    "        # Third convolution\n",
    "        conv_3_weights = tf.Variable(tf.truncated_normal([patch_size_3, embedding_size, num_channels, conv_depth]))\n",
    "        conv_3_biases = tf.Variable(tf.constant(0.1, shape=(conv_depth,)))\n",
    "        conv_3 = tf.nn.conv2d(data_x_embedded_expanded, conv_3_weights, conv_stride, padding)\n",
    "        conv_3_relu = tf.nn.relu(tf.nn.bias_add(conv_3, conv_3_biases))\n",
    "        pool_3 = tf.nn.max_pool(conv_3_relu, [1, num_words - patch_size_3 + 1, 1, 1], pool_stride, padding)\n",
    "\n",
    "        # Reshape\n",
    "        pool = tf.concat(3, [pool_1, pool_2, pool_3])\n",
    "        pool_shape = pool.get_shape().as_list()\n",
    "        reshaped_pool = tf.reshape(pool, [pool_shape[0],  pool_shape[3]])            \n",
    "        reshaped_pool_dropout = tf.nn.dropout(reshaped_pool, dropout_tf)           \n",
    "\n",
    "        # Output layer weights and biases\n",
    "        output_weights = tf.Variable(tf.truncated_normal([conv_depth * 3, num_classes]))\n",
    "        output_biases = tf.Variable(tf.constant(0.1, shape=(num_classes,)))                         \n",
    "        output = tf.nn.bias_add(tf.matmul(reshaped_pool_dropout, output_weights), output_biases)\n",
    "\n",
    "        # Loss, optimizer, and predictions\n",
    "        regularization = reg_constant * tf.nn.l2_loss(output_weights)\n",
    "        loss = tf.reduce_mean(tf.nn.softmax_cross_entropy_with_logits(output, data_y_tf) + regularization)\n",
    "        loss_summary = tf.scalar_summary('loss', loss)\n",
    "        optimizer = tf.train.AdamOptimizer().minimize(loss)\n",
    "        preds = tf.nn.softmax(output)\n",
    "\n",
    "        # Write accuracy to summary\n",
    "        sim = tf.equal(tf.argmax(preds, 1), tf.argmax(data_y_tf, 1))\n",
    "        accuracy = tf.reduce_mean(tf.cast(sim, tf.float32)) * 100\n",
    "        accuracy_summary = tf.scalar_summary('accuracy', accuracy)           \n",
    "        merged_train = tf.merge_summary([loss_summary, accuracy_summary])\n",
    "        summary_writer_train = tf.train.SummaryWriter('tensorboard/train', session.graph)\n",
    " \n",
    "        # Train model\n",
    "        tf.initialize_all_variables().run()\n",
    "        for i in xrange(num_steps):\n",
    "            batch_start = batch_size * i % (data_set_size * 2 - batch_size)\n",
    "            batch_end = batch_start + batch_size\n",
    "            batch_x = train_x_vector_shuffled[batch_start:batch_end,:]\n",
    "            batch_y = train_y_shuffled[batch_start:batch_end,:]            \n",
    "            feed_dict = {data_x_tf: batch_x, data_y_tf: batch_y, dropout_tf: 0.5}   \n",
    "            _, l, summary, accuracy_train = session.run([optimizer, loss, merged_train, accuracy], feed_dict) \n",
    "            summary_writer_train.add_summary(summary, i)            \n",
    "            if i % int(num_steps / epochs) == 0:\n",
    "                epoch_num = int(i / int(num_steps / epochs))\n",
    "                print('Train epoch %d: loss = %.2f, train accuracy = %.2f%%' % (epoch_num, l, accuracy_train))\n",
    "\n",
    "        # Test model\n",
    "        test_preds_total = []\n",
    "        for i in xrange(int(np.floor(data_set_size * 2 / batch_size))):\n",
    "            batch_start = batch_size * i\n",
    "            batch_end = batch_start + batch_size\n",
    "            batch_x = test_x_vector_shuffled[batch_start:batch_end,:]\n",
    "            batch_y = test_y_shuffled[batch_start:batch_end,:]\n",
    "            feed_dict = {data_x_tf: batch_x, data_y_tf: batch_y, dropout_tf: 1.0}  \n",
    "            test_preds_total += (session.run([accuracy], feed_dict))\n",
    "        print 'Test set accuracy: %.2f%%' % (sum(test_preds_total) / len(test_preds_total))"
   ]
  }
 ],
 "metadata": {
  "anaconda-cloud": {},
  "kernelspec": {
   "display_name": "Python [conda root]",
   "language": "python",
   "name": "conda-root-py"
  },
  "language_info": {
   "codemirror_mode": {
    "name": "ipython",
    "version": 2
   },
   "file_extension": ".py",
   "mimetype": "text/x-python",
   "name": "python",
   "nbconvert_exporter": "python",
   "pygments_lexer": "ipython2",
   "version": "2.7.12"
  }
 },
 "nbformat": 4,
 "nbformat_minor": 1
}

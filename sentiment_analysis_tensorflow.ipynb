{
 "cells": [
  {
   "cell_type": "markdown",
   "metadata": {},
   "source": [
    "# IMDB Sentiment Analysis\n",
    "\n",
    "Sentiment Aanlysis with a CNN TensorFlow model. Based on:\n",
    "* [This blog post by WILDML](http://www.wildml.com/2015/12/implementing-a-cnn-for-text-classification-in-tensorflow/)\n",
    "* [This 2014 paper by Kim](https://arxiv.org/pdf/1408.5882v2.pdf)."
   ]
  },
  {
   "cell_type": "code",
   "execution_count": 1,
   "metadata": {
    "collapsed": true
   },
   "outputs": [],
   "source": [
    "# Import packages\n",
    "import os\n",
    "import re\n",
    "import numpy as np\n",
    "import tensorflow as tf\n",
    "import matplotlib.pyplot as plt\n",
    "from random import shuffle\n",
    "from bs4 import BeautifulSoup\n",
    "from nltk.corpus import stopwords\n",
    "from tflearn.data_utils import VocabularyProcessor\n",
    "\n",
    "# Define directories\n",
    "train_pos_dir = 'aclImdb/train/pos/'\n",
    "train_neg_dir = 'aclImdb/train/neg/'\n",
    "test_pos_dir = 'aclImdb/test/pos/'\n",
    "test_neg_dir = 'aclImdb/test/neg/'\n",
    "\n",
    "# Define dataset sizes\n",
    "data_set_size = 12500"
   ]
  },
  {
   "cell_type": "code",
   "execution_count": 2,
   "metadata": {
    "collapsed": false
   },
   "outputs": [
    {
     "name": "stdout",
     "output_type": "stream",
     "text": [
      "25000 train reviews:\n",
      "anime underrated still hardly dorky kids movie noted still come back years first saw one better movi\n",
      "\n",
      "25000 test reviews:\n",
      "sure version film saw entertaining know twins gillian chung charlene choi seeing movie think english\n"
     ]
    }
   ],
   "source": [
    "# Read and process data\n",
    "stop_words = set(stopwords.words(\"english\"))\n",
    "\n",
    "with open('aclImdb/imdb.vocab', 'r') as myfile:\n",
    "    vocab = [x for x in myfile.read().split('\\n') if not x in stop_words]\n",
    "\n",
    "def parse_html(data):\n",
    "    data = BeautifulSoup(data, 'lxml').get_text() # Remove markup\n",
    "    data = re.sub(\"[^a-zA-Z]\",\" \", data) # Remove all non-alphanumeric characters\n",
    "    data = ' '.join([x for x in data.lower().split() if not x in stop_words]) # Remove stopwords\n",
    "    return data\n",
    "\n",
    "train_pos = []\n",
    "for file_name in os.listdir(train_pos_dir):\n",
    "    with open(train_pos_dir + file_name, 'r') as myfile:\n",
    "        train_pos.append(myfile.read())\n",
    "        \n",
    "train_neg = []\n",
    "for file_name in os.listdir(train_neg_dir):\n",
    "    with open(train_neg_dir + file_name, 'r') as myfile:\n",
    "        train_neg.append(myfile.read())\n",
    "\n",
    "test_pos = []\n",
    "for file_name in os.listdir(test_pos_dir):\n",
    "    with open(test_pos_dir + file_name, 'r') as myfile:\n",
    "        test_pos.append(myfile.read())\n",
    "        \n",
    "test_neg = []\n",
    "for file_name in os.listdir(test_neg_dir):\n",
    "    with open(test_neg_dir + file_name, 'r') as myfile:\n",
    "        test_neg.append(myfile.read())                 \n",
    "    \n",
    "for i in xrange(data_set_size):\n",
    "    train_pos[i] = parse_html(train_pos[i])\n",
    "    train_neg[i] = parse_html(train_neg[i])\n",
    "    test_pos[i] = parse_html(test_pos[i])\n",
    "    test_neg[i] = parse_html(test_neg[i])    \n",
    "    \n",
    "train_x = np.concatenate([train_pos, train_neg])\n",
    "train_y = np.concatenate([[[0, 1] for _ in xrange(data_set_size)], [[1, 0] for _ in xrange(data_set_size)]])\n",
    "test_x = np.concatenate([test_pos, test_neg])\n",
    "test_y = np.concatenate([[[0, 1] for _ in xrange(data_set_size)], [[1, 0] for _ in xrange(data_set_size)]])\n",
    "    \n",
    "print '%i train reviews:' % len(train_x)\n",
    "print train_x[0][:100]\n",
    "print '\\n%i test reviews:' % len(test_x)\n",
    "print test_x[0][:100]"
   ]
  },
  {
   "cell_type": "code",
   "execution_count": 3,
   "metadata": {
    "collapsed": false
   },
   "outputs": [
    {
     "data": {
      "image/png": "[encoded data removed]",
      "text/plain": [
       "<matplotlib.figure.Figure at 0x7fc428959410>"
      ]
     },
     "metadata": {},
     "output_type": "display_data"
    }
   ],
   "source": [
    "# Graph distribution of review lengths\n",
    "%matplotlib inline\n",
    "review_lengths = sorted([len(x.split()) for x in train_x] + [len(x.split()) for x in test_x])[:49900]\n",
    "plt.show(plt.bar(range(len(review_lengths)), review_lengths))"
   ]
  },
  {
   "cell_type": "code",
   "execution_count": 4,
   "metadata": {
    "collapsed": false
   },
   "outputs": [],
   "source": [
    "# Convert reviews into padded word indexes\n",
    "num_words = 250 # Based on graph (want to capture most reviews without too much padding)\n",
    "train_x_vector = np.array(list(VocabularyProcessor(num_words).fit_transform(train_x)))\n",
    "test_x_vector = np.array(list(VocabularyProcessor(num_words).fit_transform(test_x)))\n",
    "\n",
    "# Shuffle data\n",
    "shuffled_i = np.random.permutation(np.arange(data_set_size * 2))\n",
    "train_x_vector = train_x_vector[shuffled_i]\n",
    "train_y = train_y[shuffled_i]\n",
    "test_x_vector = test_x_vector[shuffled_i]\n",
    "test_y = test_y[shuffled_i]"
   ]
  },
  {
   "cell_type": "code",
   "execution_count": 11,
   "metadata": {
    "collapsed": false
   },
   "outputs": [
    {
     "name": "stdout",
     "output_type": "stream",
     "text": [
      "1564.51\n",
      "676.177\n",
      "[[ 1.  0.]\n",
      " [ 1.  0.]\n",
      " [ 1.  0.]\n",
      " [ 1.  0.]\n",
      " [ 0.  1.]\n",
      " [ 1.  0.]\n",
      " [ 1.  0.]\n",
      " [ 1.  0.]\n",
      " [ 0.  1.]\n",
      " [ 1.  0.]]\n"
     ]
    }
   ],
   "source": [
    "# Variables\n",
    "num_steps = 11\n",
    "batch_size = 64\n",
    "dropout_rate = 0.5\n",
    "num_classes = 2\n",
    "vocab_size = len(vocab) # 89380\n",
    "word_embedding_size = 128 \n",
    "patch_size = 4\n",
    "num_channels = 1\n",
    "conv_depth = 16\n",
    "full_nodes = 16\n",
    "conv_stride = [1, 1, 1, 1]\n",
    "pool_stride = [1, 1, 1, 1]\n",
    "padding = 'VALID'\n",
    "\n",
    "# Graph\n",
    "graph = tf.Graph()\n",
    "with graph.as_default():\n",
    "    # Input data\n",
    "    train_x_tf = tf.placeholder(tf.int32, [batch_size, num_words])\n",
    "    train_y_tf = tf.placeholder(tf.float32, [batch_size, num_classes])\n",
    "    test_x_tf = tf.placeholder(tf.int32, [batch_size, num_words])\n",
    "    \n",
    "    # Embedded data\n",
    "    embedding_space = tf.Variable(tf.random_uniform([vocab_size, word_embedding_size])) # 89380 x 128\n",
    "    train_x_embedded = tf.nn.embedding_lookup(embedding_space, train_x_tf) # None x 250 x 128\n",
    "    train_x_embedded = tf.expand_dims(train_x_embedded, -1) # None x 250 x 128 x 1\n",
    "    test_x_embedded = tf.nn.embedding_lookup(embedding_space, test_x_tf)\n",
    "    test_x_embedded = tf.expand_dims(test_x_embedded, -1)\n",
    "    \n",
    "    # Convolutional layer weights and biases\n",
    "    conv_weights = tf.Variable(tf.truncated_normal([patch_size, word_embedding_size, num_channels, conv_depth]))\n",
    "    conv_biases = tf.Variable(tf.constant(0.1, shape=(conv_depth,)))\n",
    "    \n",
    "    # Fully connected layer weights and biases\n",
    "    full_weights = tf.Variable(tf.truncated_normal([247 * conv_depth, full_nodes]))\n",
    "    full_biases = tf.Variable(tf.constant(0.1, shape=(full_nodes,)))\n",
    "    \n",
    "    # Output layer weights and biases\n",
    "    output_weights = tf.Variable(tf.truncated_normal([full_nodes, num_classes]))\n",
    "    output_biases = tf.Variable(tf.constant(0.1, shape=(num_classes,)))\n",
    "    \n",
    "    # Model\n",
    "    def model(data, drop_out):\n",
    "        conv = tf.nn.relu(tf.nn.bias_add(tf.nn.conv2d(data, conv_weights, conv_stride, padding), conv_biases))\n",
    "        pool = tf.nn.max_pool(conv, pool_stride, pool_stride, padding)\n",
    "        pool_shape = pool.get_shape().as_list()\n",
    "        reshape = tf.reshape(pool, [pool_shape[0], pool_shape[1] * pool_shape[2] * pool_shape[3]])\n",
    "        full = tf.nn.relu(tf.nn.bias_add(tf.matmul(reshape, full_weights), full_biases))\n",
    "        if drop_out:            \n",
    "            full = tf.nn.dropout(full, dropout_rate)\n",
    "        output = tf.nn.bias_add(tf.matmul(full, output_weights), output_biases)\n",
    "        return output\n",
    "    \n",
    "    # Output\n",
    "    train_output = model(train_x_embedded, True)\n",
    "    test_output = model(test_x_embedded, False)\n",
    "    \n",
    "    # Optimizer\n",
    "    loss = tf.reduce_mean(tf.nn.softmax_cross_entropy_with_logits(train_output, train_y_tf))\n",
    "    optimizer = tf.train.AdamOptimizer().minimize(loss)\n",
    "    \n",
    "    # Predictions\n",
    "    train_preds = tf.nn.softmax(train_output)\n",
    "    test_preds = tf.nn.softmax(test_output)\n",
    "    \n",
    "with tf.Session(graph=graph) as session:\n",
    "    tf.initialize_all_variables().run()\n",
    "    \n",
    "    for i in xrange(num_steps):\n",
    "        batch_start = batch_size * i % (train_y.shape[0] - batch_size)\n",
    "        batch_end = batch_start + batch_size\n",
    "        batch_x = train_x_vector[batch_start:batch_end,:]\n",
    "        batch_y = train_y[batch_start:batch_end,:]\n",
    "        feed_dict = {train_x_tf: batch_x, train_y_tf: batch_y}\n",
    "        _, l, preds = session.run([optimizer, loss, train_preds], feed_dict) \n",
    "        \n",
    "        if i % 10 == 0:\n",
    "            print l\n",
    "            \n",
    "    test_preds_total = np.ndarray(test_y.shape)\n",
    "    for i in xrange(int(np.floor(test_y.shape[0] / batch_size))):\n",
    "        batch_start = batch_size * i\n",
    "        batch_end = batch_start + batch_size\n",
    "        batch_x = test_x_vector[batch_start:batch_end,:]\n",
    "        batch_y = test_y[batch_start:batch_end,:]                \n",
    "        feed_dict = {test_x_tf: batch_x}\n",
    "        test_preds_total[batch_start:batch_end,:] = session.run(test_preds, feed_dict) \n",
    "        \n",
    "    print test_preds_total[:10]"
   ]
  }
 ],
 "metadata": {
  "anaconda-cloud": {},
  "kernelspec": {
   "display_name": "Python [conda root]",
   "language": "python",
   "name": "conda-root-py"
  },
  "language_info": {
   "codemirror_mode": {
    "name": "ipython",
    "version": 2
   },
   "file_extension": ".py",
   "mimetype": "text/x-python",
   "name": "python",
   "nbconvert_exporter": "python",
   "pygments_lexer": "ipython2",
   "version": "2.7.12"
  }
 },
 "nbformat": 4,
 "nbformat_minor": 1
}
